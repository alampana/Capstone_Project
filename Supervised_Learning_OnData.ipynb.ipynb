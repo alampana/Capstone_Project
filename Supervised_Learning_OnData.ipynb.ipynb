{
 "cells": [
  {
   "attachments": {},
   "cell_type": "markdown",
   "metadata": {
    "id": "Rpio-nMAoDwq"
   },
   "source": [
    "------\n",
    "\n",
    "#  Supervised learning over patients data for predicting the disease "
   ]
  },
  {
   "attachments": {},
   "cell_type": "markdown",
   "metadata": {
    "id": "90c9fF6woDwr"
   },
   "source": [
    "The previous project was about <i>data understanding</i> and <i>data preparation</i>, which formed the basis for the modeling phase of the data mining process. Many modeling techniques make assumptions about data so the exploration and preparation phases can't be ignored. Now, as I have checked the validity of data and familiarized myself with it, I will move on to the next stage of the Cross-Industry Standard Process for Data Mining (CRISP-DM) which is <font color = darkorchid><i>modeling</i></font>.\n",
    "\n",
    "The points below will be addressed that\n",
    "\n",
    "- What kind of model architecture best fits our data?\n",
    "- How well does the model perform technically?\n",
    "- Could we improve that performance?\n",
    "- How the performance of the model is evaluated?\n",
    "\n",
    "The machine learning algorithms aim to learn from data to make predictions. The two main branches of it are <i>supervised learning</i> and <i>unsupervised learning</i>.  In this project, I am going to use the former -- <font color = darkorchid><i>supervised learning</i></font> -- for classification and regression tasks.\n"
   ]
  },
  {
   "attachments": {},
   "cell_type": "markdown",
   "metadata": {
    "id": "2I2WLapM3BPc"
   },
   "source": [
    "### Importing **all** liberaries needed for the project:\n",
    "\n"
   ]
  },
  {
   "cell_type": "code",
   "execution_count": 24,
   "metadata": {
    "executionInfo": {
     "elapsed": 1040,
     "status": "ok",
     "timestamp": 1669631227702,
     "user": {
      "displayName": "Intikhab Alam",
      "userId": "09576731209733605093"
     },
     "user_tz": -120
    },
    "id": "iypIAVquoDws"
   },
   "outputs": [],
   "source": [
    "import numpy as np\n",
    "import pandas as pd\n",
    "import scipy.stats as stats\n",
    "import seaborn as sns\n",
    "import matplotlib.pyplot as plt\n",
    "from tqdm import tqdm\n",
    "\n",
    "\n",
    "# Machine learning package - scikit-learn\n",
    "from sklearn import metrics\n",
    "from sklearn.preprocessing import StandardScaler\n",
    "from sklearn.model_selection import train_test_split, cross_val_score, LeaveOneOut, GridSearchCV\n",
    "from sklearn.neighbors import KNeighborsClassifier, KNeighborsRegressor\n",
    "from sklearn.linear_model import Ridge\n",
    "\n",
    "# Show the plots inline in the notebook\n",
    "%matplotlib inline"
   ]
  },
  {
   "attachments": {},
   "cell_type": "markdown",
   "metadata": {
    "id": "XwJgIw5xSmIF"
   },
   "source": [
    "______________\n",
    "## <font color = lightcoral>1. Classification using k-nearest neighbors </font> "
   ]
  },
  {
   "attachments": {},
   "cell_type": "markdown",
   "metadata": {
    "id": "7CqWZYx2oDw3"
   },
   "source": [
    "I start exploring the world of data modeling by using <font color = darkorchid><b>K-Nearest Neightbors (k-NN) algorithm</b></font>. The k-NN algorithm is one of the classic supervised machine learning algorithms. It assumes that similar points are close to each other. \n",
    "\n",
    "In this case, I'll use the k-NN algorithm to **predict the presence of cardiovascular disease** using all the other variables as <font color = darkorchid><b>features</b></font> in the given data set. So, the target variable is <font color = darkorchid><b>cardio</b></font>.\n",
    "\n",
    "\n",
    "*** 1 A)*** \n",
    "\n",
    "First I am dragging the data to this plateform and then printing out the first 10 rows to check that everything is ok with the created dataframe.\n"
   ]
  },
  {
   "cell_type": "code",
   "execution_count": 11,
   "metadata": {
    "colab": {
     "base_uri": "https://localhost:8080/",
     "height": 363
    },
    "executionInfo": {
     "elapsed": 18,
     "status": "error",
     "timestamp": 1669631315016,
     "user": {
      "displayName": "Intikhab Alam",
      "userId": "09576731209733605093"
     },
     "user_tz": -120
    },
    "id": "tLQVbLnwSmII",
    "outputId": "653e6517-8ff8-47d9-e6ba-da84d5a4dc33"
   },
   "outputs": [],
   "source": [
    "\n",
    "# Path for the data\n",
    "data_path = 'cardio_data.csv.csv'\n",
    "\n",
    "# Create a dataframe\n",
    "cardio_data = pd.read_csv(data_path)"
   ]
  },
  {
   "cell_type": "code",
   "execution_count": 12,
   "metadata": {
    "executionInfo": {
     "elapsed": 48,
     "status": "aborted",
     "timestamp": 1669631228981,
     "user": {
      "displayName": "Intikhab Alam",
      "userId": "09576731209733605093"
     },
     "user_tz": -120
    },
    "id": "nM5NolEESmIJ"
   },
   "outputs": [
    {
     "data": {
      "text/html": [
       "<div>\n",
       "<style scoped>\n",
       "    .dataframe tbody tr th:only-of-type {\n",
       "        vertical-align: middle;\n",
       "    }\n",
       "\n",
       "    .dataframe tbody tr th {\n",
       "        vertical-align: top;\n",
       "    }\n",
       "\n",
       "    .dataframe thead th {\n",
       "        text-align: right;\n",
       "    }\n",
       "</style>\n",
       "<table border=\"1\" class=\"dataframe\">\n",
       "  <thead>\n",
       "    <tr style=\"text-align: right;\">\n",
       "      <th></th>\n",
       "      <th>age</th>\n",
       "      <th>sex</th>\n",
       "      <th>height</th>\n",
       "      <th>weight</th>\n",
       "      <th>ap_hi</th>\n",
       "      <th>ap_lo</th>\n",
       "      <th>smoke</th>\n",
       "      <th>alco</th>\n",
       "      <th>active</th>\n",
       "      <th>cardio</th>\n",
       "      <th>cholesterol_at_risk</th>\n",
       "      <th>cholesterol_elevated</th>\n",
       "      <th>cholesterol_normal</th>\n",
       "      <th>gluc_at_risk</th>\n",
       "      <th>gluc_elevated</th>\n",
       "      <th>gluc_normal</th>\n",
       "    </tr>\n",
       "  </thead>\n",
       "  <tbody>\n",
       "    <tr>\n",
       "      <th>0</th>\n",
       "      <td>22767</td>\n",
       "      <td>0</td>\n",
       "      <td>162</td>\n",
       "      <td>75</td>\n",
       "      <td>120</td>\n",
       "      <td>80</td>\n",
       "      <td>0</td>\n",
       "      <td>0</td>\n",
       "      <td>1</td>\n",
       "      <td>0</td>\n",
       "      <td>0</td>\n",
       "      <td>0</td>\n",
       "      <td>1</td>\n",
       "      <td>0</td>\n",
       "      <td>0</td>\n",
       "      <td>1</td>\n",
       "    </tr>\n",
       "    <tr>\n",
       "      <th>1</th>\n",
       "      <td>19102</td>\n",
       "      <td>0</td>\n",
       "      <td>164</td>\n",
       "      <td>80</td>\n",
       "      <td>140</td>\n",
       "      <td>90</td>\n",
       "      <td>0</td>\n",
       "      <td>0</td>\n",
       "      <td>1</td>\n",
       "      <td>0</td>\n",
       "      <td>0</td>\n",
       "      <td>0</td>\n",
       "      <td>1</td>\n",
       "      <td>0</td>\n",
       "      <td>0</td>\n",
       "      <td>1</td>\n",
       "    </tr>\n",
       "    <tr>\n",
       "      <th>2</th>\n",
       "      <td>23251</td>\n",
       "      <td>0</td>\n",
       "      <td>155</td>\n",
       "      <td>76</td>\n",
       "      <td>130</td>\n",
       "      <td>80</td>\n",
       "      <td>0</td>\n",
       "      <td>0</td>\n",
       "      <td>1</td>\n",
       "      <td>0</td>\n",
       "      <td>0</td>\n",
       "      <td>0</td>\n",
       "      <td>1</td>\n",
       "      <td>0</td>\n",
       "      <td>1</td>\n",
       "      <td>0</td>\n",
       "    </tr>\n",
       "    <tr>\n",
       "      <th>3</th>\n",
       "      <td>22651</td>\n",
       "      <td>1</td>\n",
       "      <td>169</td>\n",
       "      <td>65</td>\n",
       "      <td>120</td>\n",
       "      <td>80</td>\n",
       "      <td>0</td>\n",
       "      <td>0</td>\n",
       "      <td>1</td>\n",
       "      <td>0</td>\n",
       "      <td>0</td>\n",
       "      <td>0</td>\n",
       "      <td>1</td>\n",
       "      <td>0</td>\n",
       "      <td>0</td>\n",
       "      <td>1</td>\n",
       "    </tr>\n",
       "    <tr>\n",
       "      <th>4</th>\n",
       "      <td>21770</td>\n",
       "      <td>1</td>\n",
       "      <td>171</td>\n",
       "      <td>67</td>\n",
       "      <td>160</td>\n",
       "      <td>100</td>\n",
       "      <td>0</td>\n",
       "      <td>0</td>\n",
       "      <td>0</td>\n",
       "      <td>1</td>\n",
       "      <td>0</td>\n",
       "      <td>0</td>\n",
       "      <td>1</td>\n",
       "      <td>0</td>\n",
       "      <td>0</td>\n",
       "      <td>1</td>\n",
       "    </tr>\n",
       "    <tr>\n",
       "      <th>5</th>\n",
       "      <td>14651</td>\n",
       "      <td>1</td>\n",
       "      <td>170</td>\n",
       "      <td>70</td>\n",
       "      <td>120</td>\n",
       "      <td>80</td>\n",
       "      <td>0</td>\n",
       "      <td>0</td>\n",
       "      <td>1</td>\n",
       "      <td>0</td>\n",
       "      <td>0</td>\n",
       "      <td>0</td>\n",
       "      <td>1</td>\n",
       "      <td>0</td>\n",
       "      <td>0</td>\n",
       "      <td>1</td>\n",
       "    </tr>\n",
       "    <tr>\n",
       "      <th>6</th>\n",
       "      <td>17391</td>\n",
       "      <td>0</td>\n",
       "      <td>152</td>\n",
       "      <td>65</td>\n",
       "      <td>110</td>\n",
       "      <td>70</td>\n",
       "      <td>0</td>\n",
       "      <td>0</td>\n",
       "      <td>1</td>\n",
       "      <td>0</td>\n",
       "      <td>0</td>\n",
       "      <td>0</td>\n",
       "      <td>1</td>\n",
       "      <td>0</td>\n",
       "      <td>0</td>\n",
       "      <td>1</td>\n",
       "    </tr>\n",
       "    <tr>\n",
       "      <th>7</th>\n",
       "      <td>14792</td>\n",
       "      <td>0</td>\n",
       "      <td>165</td>\n",
       "      <td>65</td>\n",
       "      <td>120</td>\n",
       "      <td>70</td>\n",
       "      <td>0</td>\n",
       "      <td>0</td>\n",
       "      <td>1</td>\n",
       "      <td>0</td>\n",
       "      <td>0</td>\n",
       "      <td>0</td>\n",
       "      <td>1</td>\n",
       "      <td>0</td>\n",
       "      <td>0</td>\n",
       "      <td>1</td>\n",
       "    </tr>\n",
       "    <tr>\n",
       "      <th>8</th>\n",
       "      <td>15982</td>\n",
       "      <td>1</td>\n",
       "      <td>180</td>\n",
       "      <td>81</td>\n",
       "      <td>110</td>\n",
       "      <td>70</td>\n",
       "      <td>1</td>\n",
       "      <td>0</td>\n",
       "      <td>1</td>\n",
       "      <td>0</td>\n",
       "      <td>0</td>\n",
       "      <td>0</td>\n",
       "      <td>1</td>\n",
       "      <td>0</td>\n",
       "      <td>0</td>\n",
       "      <td>1</td>\n",
       "    </tr>\n",
       "    <tr>\n",
       "      <th>9</th>\n",
       "      <td>19589</td>\n",
       "      <td>0</td>\n",
       "      <td>156</td>\n",
       "      <td>60</td>\n",
       "      <td>120</td>\n",
       "      <td>90</td>\n",
       "      <td>0</td>\n",
       "      <td>0</td>\n",
       "      <td>1</td>\n",
       "      <td>0</td>\n",
       "      <td>0</td>\n",
       "      <td>0</td>\n",
       "      <td>1</td>\n",
       "      <td>0</td>\n",
       "      <td>0</td>\n",
       "      <td>1</td>\n",
       "    </tr>\n",
       "  </tbody>\n",
       "</table>\n",
       "</div>"
      ],
      "text/plain": [
       "     age  sex  height  weight  ap_hi  ap_lo  smoke  alco  active  cardio   \n",
       "0  22767    0     162      75    120     80      0     0       1       0  \\\n",
       "1  19102    0     164      80    140     90      0     0       1       0   \n",
       "2  23251    0     155      76    130     80      0     0       1       0   \n",
       "3  22651    1     169      65    120     80      0     0       1       0   \n",
       "4  21770    1     171      67    160    100      0     0       0       1   \n",
       "5  14651    1     170      70    120     80      0     0       1       0   \n",
       "6  17391    0     152      65    110     70      0     0       1       0   \n",
       "7  14792    0     165      65    120     70      0     0       1       0   \n",
       "8  15982    1     180      81    110     70      1     0       1       0   \n",
       "9  19589    0     156      60    120     90      0     0       1       0   \n",
       "\n",
       "   cholesterol_at_risk  cholesterol_elevated  cholesterol_normal   \n",
       "0                    0                     0                   1  \\\n",
       "1                    0                     0                   1   \n",
       "2                    0                     0                   1   \n",
       "3                    0                     0                   1   \n",
       "4                    0                     0                   1   \n",
       "5                    0                     0                   1   \n",
       "6                    0                     0                   1   \n",
       "7                    0                     0                   1   \n",
       "8                    0                     0                   1   \n",
       "9                    0                     0                   1   \n",
       "\n",
       "   gluc_at_risk  gluc_elevated  gluc_normal  \n",
       "0             0              0            1  \n",
       "1             0              0            1  \n",
       "2             0              1            0  \n",
       "3             0              0            1  \n",
       "4             0              0            1  \n",
       "5             0              0            1  \n",
       "6             0              0            1  \n",
       "7             0              0            1  \n",
       "8             0              0            1  \n",
       "9             0              0            1  "
      ]
     },
     "execution_count": 12,
     "metadata": {},
     "output_type": "execute_result"
    }
   ],
   "source": [
    "### Code - 10 first row\n",
    "\n",
    "cardio_data.head(10)"
   ]
  },
  {
   "attachments": {},
   "cell_type": "markdown",
   "metadata": {
    "id": "mfq_3_WNoDw3"
   },
   "source": [
    "----\n",
    "\n",
    "I have the data so let's make use of it. \n",
    "\n",
    "To teach the k-NN algorithm (or any kind of machine learning algorithm) to recognize patterns, I am going to need <font color = darkorchid><b>training data</b></font>. But to test how well a model possibly learned those patterns, I'll need <font color = darkorchid><b>test data</b></font> which is new and unseen for the trained model. Keeping in mind that the test set is not shown for the model before  I am actually done with training. \n",
    "\n",
    "So, to **find the estimate for the performance of a model**, I am going to use this <font color = darkorchid><b>train-test split</b></font>. \"Split\" because I literally split the data into two sets.\n",
    "\n",
    "Sometimes <font color = darkorchid>stratification</font> needs to be considered. It can be used to ensure that train and test sets contain the same proportions of samples of each target class as the original data set.\n",
    "\n",
    "*** 1 B)*** \n",
    "\n",
    "Gathering the features as an array `features`, and the target variable as an array `labels`. Producing training and test data.  Dividing the data **randomly** into training (80%) and test (20%) sets.\n"
   ]
  },
  {
   "cell_type": "code",
   "execution_count": 13,
   "metadata": {
    "executionInfo": {
     "elapsed": 48,
     "status": "aborted",
     "timestamp": 1669631228986,
     "user": {
      "displayName": "Intikhab Alam",
      "userId": "09576731209733605093"
     },
     "user_tz": -120
    },
    "id": "01nwzV52SmIM"
   },
   "outputs": [],
   "source": [
    "### Code - Train-test split\n",
    "X_train, X_test, y_train, y_test = train_test_split(cardio_data.drop(['cardio'], axis=1), cardio_data['cardio'], train_size=0.8, stratify=cardio_data['cardio'])"
   ]
  },
  {
   "cell_type": "code",
   "execution_count": null,
   "metadata": {
    "executionInfo": {
     "elapsed": 49,
     "status": "aborted",
     "timestamp": 1669631228988,
     "user": {
      "displayName": "Intikhab Alam",
      "userId": "09576731209733605093"
     },
     "user_tz": -120
    },
    "id": "_SDd2-_m5QpB"
   },
   "outputs": [],
   "source": []
  },
  {
   "attachments": {},
   "cell_type": "markdown",
   "metadata": {
    "id": "daPc_o9boDw3"
   },
   "source": [
    "\n",
    "It is good to split the dataset into train and test set so that the lable distribution should be same. This is termed as strafication. "
   ]
  },
  {
   "attachments": {},
   "cell_type": "markdown",
   "metadata": {
    "id": "nJt1wPz-SmIN"
   },
   "source": [
    "----------\n",
    "\n",
    "***1 C)*** \n",
    "\n",
    "Scaling the numeric features. \n"
   ]
  },
  {
   "cell_type": "code",
   "execution_count": 14,
   "metadata": {
    "executionInfo": {
     "elapsed": 51,
     "status": "aborted",
     "timestamp": 1669631228991,
     "user": {
      "displayName": "Intikhab Alam",
      "userId": "09576731209733605093"
     },
     "user_tz": -120
    },
    "id": "rQ0lSXt1SmIO"
   },
   "outputs": [],
   "source": [
    "###  - Standardization\n",
    "\n",
    "numeric_features = ['age', 'height', 'weight', 'ap_hi', 'ap_lo']\n",
    "\n",
    "s_s = StandardScaler()\n",
    "X_train[numeric_features] = s_s.fit_transform(X_train[numeric_features])\n",
    "X_test[numeric_features] = s_s.transform(X_test[numeric_features])"
   ]
  },
  {
   "attachments": {},
   "cell_type": "markdown",
   "metadata": {
    "id": "64BTyV3zSmIO"
   },
   "source": [
    "<font color = red>  Why standardization? \n",
    "\n",
    "*    KNN algorithm relies on majority voting based on class membership of 'k' nearest samples for a given test point, the proximity of samples is naturally based on euclidean distance.\n",
    "*   All nearest neighbors will be parallel in the direction of the axis with the smaller range directing to incorrect classification.\n",
    "\n",
    "***"
   ]
  },
  {
   "attachments": {},
   "cell_type": "markdown",
   "metadata": {
    "id": "muqCazPIoDw4"
   },
   "source": [
    "-------\n",
    "The time to train the model has come now!\n",
    "\n",
    "*** 1 D)*** \n",
    "\n",
    "Training a k-NN model with $k=3$. Printing out the confusion matrix.\n"
   ]
  },
  {
   "cell_type": "code",
   "execution_count": 6,
   "metadata": {
    "executionInfo": {
     "elapsed": 50,
     "status": "aborted",
     "timestamp": 1669631228993,
     "user": {
      "displayName": "Intikhab Alam",
      "userId": "09576731209733605093"
     },
     "user_tz": -120
    },
    "id": "NMR7Y2s6oDw4"
   },
   "outputs": [
    {
     "name": "stdout",
     "output_type": "stream",
     "text": [
      "              precision    recall  f1-score   support\n",
      "\n",
      "           0       0.82      0.82      0.82       143\n",
      "           1       0.54      0.54      0.54        57\n",
      "\n",
      "    accuracy                           0.74       200\n",
      "   macro avg       0.68      0.68      0.68       200\n",
      "weighted avg       0.74      0.74      0.74       200\n",
      "\n"
     ]
    }
   ],
   "source": [
    "### Code - kNN classifier\n",
    "model = KNeighborsClassifier(n_neighbors=3)\n",
    "model.fit(X_train, y_train)\n",
    "\n",
    "from sklearn.metrics import classification_report\n",
    "\n",
    "y_hat = model.predict(X_test)\n",
    "print(classification_report(y_hat, y_test))"
   ]
  },
  {
   "cell_type": "code",
   "execution_count": 25,
   "metadata": {
    "executionInfo": {
     "elapsed": 54,
     "status": "aborted",
     "timestamp": 1669631229000,
     "user": {
      "displayName": "Intikhab Alam",
      "userId": "09576731209733605093"
     },
     "user_tz": -120
    },
    "id": "rNEwbsC6SmIR"
   },
   "outputs": [
    {
     "name": "stderr",
     "output_type": "stream",
     "text": [
      "100%|██████████| 1000/1000 [00:32<00:00, 30.99it/s]\n"
     ]
    },
    {
     "data": {
      "text/plain": [
       "(array([  1.,   1.,   7.,  82., 174., 302., 277., 129.,  24.,   3.]),\n",
       " array([0.64  , 0.6605, 0.681 , 0.7015, 0.722 , 0.7425, 0.763 , 0.7835,\n",
       "        0.804 , 0.8245, 0.845 ]),\n",
       " <BarContainer object of 10 artists>)"
      ]
     },
     "execution_count": 25,
     "metadata": {},
     "output_type": "execute_result"
    },
    {
     "data": {
      "image/png": "[encoded data removed]",
      "text/plain": [
       "<Figure size 640x480 with 1 Axes>"
      ]
     },
     "metadata": {},
     "output_type": "display_data"
    }
   ],
   "source": [
    "### 1000 different train-test-splits\n",
    "scores = []\n",
    "\n",
    "for i in tqdm(range(1000)):\n",
    "\n",
    "    X_train, X_test, y_train, y_test = train_test_split(cardio_data.drop(['cardio'], axis=1), cardio_data['cardio'], train_size=0.8, stratify=cardio_data['cardio'])\n",
    "\n",
    "    numeric_features = ['age', 'height', 'weight', 'ap_hi', 'ap_lo']\n",
    "\n",
    "    s_s = StandardScaler()\n",
    "    X_train[numeric_features] = s_s.fit_transform(X_train[numeric_features])\n",
    "    X_test[numeric_features] = s_s.transform(X_test[numeric_features])\n",
    "\n",
    "    model = KNeighborsClassifier(n_neighbors=3)\n",
    "    model.fit(X_train, y_train)\n",
    "\n",
    "    scores.append(model.score(X_test, y_test))\n",
    "\n",
    "plt.hist(scores)"
   ]
  },
  {
   "attachments": {},
   "cell_type": "markdown",
   "metadata": {
    "id": "1ceztBiPoDw4"
   },
   "source": [
    "<font color = red> \n",
    "\n",
    "A little variation  in accuracy is observed in the model after training it using various distribution although splitting it using strafication. The accuracy of model is nearly around 0.76\n",
    "\n"
   ]
  },
  {
   "cell_type": "code",
   "execution_count": 26,
   "metadata": {
    "executionInfo": {
     "elapsed": 58,
     "status": "aborted",
     "timestamp": 1669631229006,
     "user": {
      "displayName": "Intikhab Alam",
      "userId": "09576731209733605093"
     },
     "user_tz": -120
    },
    "id": "yuu3gHggSmIT"
   },
   "outputs": [
    {
     "data": {
      "image/png": "[encoded data removed]",
      "text/plain": [
       "<Figure size 640x480 with 1 Axes>"
      ]
     },
     "metadata": {},
     "output_type": "display_data"
    }
   ],
   "source": [
    "### AUROC and ROC Curves\n",
    "\n",
    "from sklearn.metrics import roc_curve\n",
    "from sklearn.metrics import auc\n",
    "\n",
    "y_scores = model.predict_proba(X_test)\n",
    "\n",
    "fpr, tpr, threshold = roc_curve(y_test, y_scores[:, 1])\n",
    "roc_auc = auc(fpr, tpr)\n",
    "\n",
    "plt.title('Receiver Operating Characteristic')\n",
    "plt.plot(fpr, tpr, 'b', label = 'AUC = %0.2f' % roc_auc)\n",
    "plt.legend(loc = 'lower right')\n",
    "plt.plot([0, 1], [0, 1],'r--')\n",
    "plt.xlim([0, 1])\n",
    "plt.ylim([0, 1])\n",
    "plt.ylabel('True Positive Rate')\n",
    "plt.xlabel('False Positive Rate')\n",
    "plt.title('ROC Curve of kNN')\n",
    "plt.show()"
   ]
  },
  {
   "attachments": {},
   "cell_type": "markdown",
   "metadata": {
    "id": "gQfehqAioDw4"
   },
   "source": [
    "__________\n",
    "## <font color = royalblue> 2. Classification accuracy using leave-one-out cross validation"
   ]
  },
  {
   "attachments": {},
   "cell_type": "markdown",
   "metadata": {
    "id": "DPZx-6JLoDw5"
   },
   "source": [
    "\n",
    "\n",
    "\n",
    " ***2 A)***\n"
   ]
  },
  {
   "attachments": {},
   "cell_type": "markdown",
   "metadata": {
    "id": "TXJmJ80DoDw5"
   },
   "source": [
    "<font color = red> \n",
    "\n",
    "    \n",
    "The difference between train test split and leave-one-out cross validation is that in leave-one-out cross validation we only leave one example in test set and we always put one example randomly. In this way it provides model that is less biased."
   ]
  },
  {
   "attachments": {},
   "cell_type": "markdown",
   "metadata": {
    "id": "spixju9HSmIY"
   },
   "source": [
    "---------------\n",
    "\n",
    "***2 B)***\n",
    "\n",
    "Let's predict once again the **presence of cardiovascular disease** using all the other variables in the dataset as features. Now, use leave-one-out cross validation to estimate the model performance. Again, use a kNN classifier with $k=3$.\n"
   ]
  },
  {
   "cell_type": "code",
   "execution_count": 27,
   "metadata": {
    "executionInfo": {
     "elapsed": 62,
     "status": "aborted",
     "timestamp": 1669631229010,
     "user": {
      "displayName": "Intikhab Alam",
      "userId": "09576731209733605093"
     },
     "user_tz": -120
    },
    "id": "znHjVwKDoDw5",
    "scrolled": false
   },
   "outputs": [
    {
     "name": "stdout",
     "output_type": "stream",
     "text": [
      "Accuracy: 0.752 (0.432)\n"
     ]
    }
   ],
   "source": [
    "###  Leave-one-out cross validation\n",
    "\n",
    "from numpy import mean\n",
    "from numpy import std\n",
    "\n",
    "cv = LeaveOneOut()\n",
    "\n",
    "model = KNeighborsClassifier(n_neighbors=3)\n",
    "\n",
    "scores = cross_val_score(model, X_train, y_train, scoring='accuracy', cv=cv, n_jobs=-1)\n",
    "print('Accuracy: %.3f (%.3f)' % (mean(scores), std(scores)))"
   ]
  },
  {
   "attachments": {},
   "cell_type": "markdown",
   "metadata": {
    "id": "AS8xDgQkSmIa"
   },
   "source": [
    "<font color = red> \n",
    "    \n",
    "We got a model with accuracy that should not be overfitting and tested on every example.    "
   ]
  },
  {
   "attachments": {},
   "cell_type": "markdown",
   "metadata": {
    "id": "88BjCQL6oDw5"
   },
   "source": [
    "____________\n",
    "## <font color = forestgreen> 3. Model selection with leave-one-out cross validation"
   ]
  },
  {
   "attachments": {},
   "cell_type": "markdown",
   "metadata": {
    "id": "A8fcES_LoDw5"
   },
   "source": [
    "So far, I've trained one model at a time and I've given the value of k. Accuracy is what it is (no spoilers here), but could we still do a little better? Let's try that by <font color = darkorchid><b>hyperparameter tuning</b></font>.\n",
    "\n",
    "This time, I am going to train multiple models, let's say 30, and choose the best K-Nearest Neighbors model among the others. Almost all models have some parameters that need to be chosen. As does the k-NN, I just happened to choose the k value of 3. K-NN has many other hyperparameters too, but for the sake of simplicity, this time I'll focus only on the nearest neighbors. \n",
    "\n",
    "Now, I am supposed to find that *optimal value* for k.\n",
    "\n",
    "\n",
    "Repeating the model performance estimation with values $k=1...30$ using again leave-one-out cross validation.\n"
   ]
  },
  {
   "cell_type": "code",
   "execution_count": 28,
   "metadata": {
    "executionInfo": {
     "elapsed": 64,
     "status": "aborted",
     "timestamp": 1669631229013,
     "user": {
      "displayName": "Intikhab Alam",
      "userId": "09576731209733605093"
     },
     "user_tz": -120
    },
    "id": "RJ7570_ZoDw6"
   },
   "outputs": [
    {
     "name": "stderr",
     "output_type": "stream",
     "text": [
      "100%|██████████| 30/30 [01:24<00:00,  2.83s/it]"
     ]
    },
    {
     "name": "stdout",
     "output_type": "stream",
     "text": [
      "\n",
      "Best Accuracy with k = 27 is 0.7725\n"
     ]
    },
    {
     "name": "stderr",
     "output_type": "stream",
     "text": [
      "\n"
     ]
    }
   ],
   "source": [
    "### Select best k\n",
    "\n",
    "best_model = 0\n",
    "max_mean = 0\n",
    "best_k = 0\n",
    "for k in tqdm(range(1,31)):\n",
    "\n",
    "    cv = LeaveOneOut()\n",
    "\n",
    "    model = KNeighborsClassifier(n_neighbors=k)\n",
    "\n",
    "    scores = cross_val_score(model, X_train, y_train, scoring='accuracy', cv=cv, n_jobs=-1)\n",
    "    \n",
    "    if mean(scores) > max_mean: \n",
    "        max_mean = mean(scores)\n",
    "        best_model = model\n",
    "        best_k = k\n",
    "print()\n",
    "print('Best Accuracy with k = {} is {}'.format(best_k ,mean(scores)))"
   ]
  },
  {
   "attachments": {},
   "cell_type": "markdown",
   "metadata": {
    "id": "KzuUlYFzSmIe"
   },
   "source": [
    "<font color = red> \n",
    "    \n",
    "I am chaning the value from 1-30 and evaluate the model using leave out cross validaiton and choosing the model with highest scores model. The choosen model seems to perform very well enough on data whichis unseen, because it has been trained on leave one cross validation."
   ]
  },
  {
   "attachments": {},
   "cell_type": "markdown",
   "metadata": {
    "id": "9r2v1LEDoDw6"
   },
   "source": [
    "________________\n",
    "## <font color = blue>  4. Testing with training data \n",
    "\n"
   ]
  },
  {
   "cell_type": "code",
   "execution_count": 11,
   "metadata": {
    "executionInfo": {
     "elapsed": 68,
     "status": "aborted",
     "timestamp": 1669631229017,
     "user": {
      "displayName": "Intikhab Alam",
      "userId": "09576731209733605093"
     },
     "user_tz": -120
    },
    "id": "ExWjmjQ5oDw6",
    "scrolled": false
   },
   "outputs": [
    {
     "name": "stderr",
     "output_type": "stream",
     "text": [
      "100%|██████████████████████████████████████████| 30/30 [00:02<00:00, 13.29it/s]"
     ]
    },
    {
     "name": "stdout",
     "output_type": "stream",
     "text": [
      "\n",
      "[1.0, 0.826, 0.823, 0.788, 0.793, 0.776, 0.778, 0.755, 0.758, 0.748, 0.754, 0.743, 0.75, 0.741, 0.74, 0.731, 0.726, 0.724, 0.726, 0.725, 0.726, 0.726, 0.727, 0.722, 0.726, 0.722, 0.726, 0.725, 0.729, 0.73]\n",
      "Best Accuracy with k = 1 is 0.7554666666666667\n"
     ]
    },
    {
     "name": "stderr",
     "output_type": "stream",
     "text": [
      "\n"
     ]
    }
   ],
   "source": [
    "###  Train with whole data\n",
    "\n",
    "best_model = 0\n",
    "max_mean = 0\n",
    "best_k = 0\n",
    "scores = []\n",
    "for k in tqdm(range(1,31)):\n",
    "\n",
    "    model = KNeighborsClassifier(n_neighbors=k)\n",
    "\n",
    "    model.fit(cardio_data.drop(['cardio'], axis=1), cardio_data['cardio'])\n",
    "\n",
    "    score = model.score(cardio_data.drop(['cardio'], axis=1), cardio_data['cardio'])\n",
    "    scores.append(score)\n",
    "    if score > max_mean: \n",
    "        max_mean = score\n",
    "        best_model = model\n",
    "        best_k = k\n",
    "\n",
    "best_model_pre = best_model\n",
    "print()\n",
    "print(scores)\n",
    "print('Best Accuracy with k = {} is {}'.format(best_k ,mean(scores)))"
   ]
  },
  {
   "cell_type": "code",
   "execution_count": 29,
   "metadata": {
    "executionInfo": {
     "elapsed": 69,
     "status": "aborted",
     "timestamp": 1669631229019,
     "user": {
      "displayName": "Intikhab Alam",
      "userId": "09576731209733605093"
     },
     "user_tz": -120
    },
    "id": "I-5kMkXeSmIf"
   },
   "outputs": [
    {
     "data": {
      "text/plain": [
       "[<matplotlib.lines.Line2D at 0x181c66e1dd0>]"
      ]
     },
     "execution_count": 29,
     "metadata": {},
     "output_type": "execute_result"
    },
    {
     "data": {
      "image/png": "[encoded data removed]",
      "text/plain": [
       "<Figure size 640x480 with 1 Axes>"
      ]
     },
     "metadata": {},
     "output_type": "display_data"
    }
   ],
   "source": [
    "###  - Plot results\n",
    "\n",
    "plt.plot(scores)"
   ]
  },
  {
   "attachments": {},
   "cell_type": "markdown",
   "metadata": {
    "id": "_S2pnq9wSmIg"
   },
   "source": [
    " <font color = red> \n",
    "The test set allows you to compare different models in an unbiased way, by basing  comparisons in data that were not use in any part of  training/hyperparameter selection process."
   ]
  }
 ],
 "metadata": {
  "colab": {
   "provenance": []
  },
  "kernelspec": {
   "display_name": "Python 3 (ipykernel)",
   "language": "python",
   "name": "python3"
  },
  "language_info": {
   "codemirror_mode": {
    "name": "ipython",
    "version": 3
   },
   "file_extension": ".py",
   "mimetype": "text/x-python",
   "name": "python",
   "nbconvert_exporter": "python",
   "pygments_lexer": "ipython3",
   "version": "3.11.3"
  },
  "toc": {
   "base_numbering": 1,
   "nav_menu": {
    "height": "180px",
    "width": "160px"
   },
   "number_sections": true,
   "sideBar": true,
   "skip_h1_title": true,
   "title_cell": "Table of Contents",
   "title_sidebar": "Contents",
   "toc_cell": false,
   "toc_position": {},
   "toc_section_display": true,
   "toc_window_display": false
  }
 },
 "nbformat": 4,
 "nbformat_minor": 1
}
