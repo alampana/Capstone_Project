{
 "cells": [
  {
   "cell_type": "code",
   "execution_count": 2,
   "metadata": {
    "id": "kNsRA1WF3BPc"
   },
   "outputs": [],
   "source": [
    "# --- Libraries with a short description ---\n",
    "import pandas as pd # for data manipulation\n",
    "import matplotlib.pyplot as plt # for plotting\n",
    "import numpy as np #for numeric calculations and making simulated data.\n",
    "import seaborn as sns # for plotting, an extension on matplotlib \n",
    "\n",
    "# - sklearn has many data analysis utility functions like scaling as well as a large variety of modeling tools.\n",
    "from sklearn.decomposition import PCA \n",
    "from sklearn.preprocessing import StandardScaler\n",
    "from sklearn.preprocessing import minmax_scale\n",
    "from sklearn.preprocessing import scale\n",
    "from sklearn.manifold import TSNE\n",
    "\n",
    "# This forces plots to be shown inline in the notebook\n",
    "%matplotlib inline"
   ]
  },
  {
   "attachments": {},
   "cell_type": "markdown",
   "metadata": {},
   "source": [
    "\n",
    "<div class=\"alert alert-block alert-warning\">\n",
    "    <h1><center> Hospital's Data Understanding and preparation </center></h1>"
   ]
  },
  {
   "attachments": {},
   "cell_type": "markdown",
   "metadata": {
    "id": "8AZs1Rdr3BPd"
   },
   "source": [
    "##  <font color = dimgrey> 1. Introduction to the dataset </font>"
   ]
  },
  {
   "attachments": {},
   "cell_type": "markdown",
   "metadata": {
    "id": "2Y4dstDz3BPe"
   },
   "source": [
    "The data depicts data gathered on hospital patients with and without cardiovascular disease, depicted by the target variable **_cardio_**, a common disease associated with a buildup of fatty deposits inside the arteries (blood vessels) of the heart. \n",
    " \n",
    " -------\n",
    "The case with data analysis projects, the features/variables have been retrieved from different sources: \n",
    "- doctors notes (texts)\n",
    "- examination variables that have come from a database containing lab results or taken during a doctors examination\n",
    "- self reported variables\n",
    "\n",
    "--------------\n",
    "The data has the following columns/attributes:\n",
    "\n",
    "| Feature | Type | Explanation |\n",
    "| :- | :- | :-\n",
    "| age | numeric | The age of the patient in days \n",
    "| sex | binary | Male/Female\n",
    "| weight | numeric | Measured weight of the patient (cm)\n",
    "| height | numeric | Measured weight of the patient (kg)\n",
    "| ap_hi | numeric | Measured Systolic blood pressure\n",
    "| ap_lo | numeric | Measured Diastolic blood pressure\n",
    "| smoke | binary | A subjective feature based on asking the patient whether or not he/she smokes\n",
    "| active | binary |  A subjective feature based on asking the patient whether or not he/she exercises regularly\n",
    "| cholesterol | categorical | Cholesterol associated risk information evaluated by a doctor\n",
    "| cardio | binary | Whether or not the patient has been diagnosed with cardiac disease."
   ]
  },
  {
   "cell_type": "code",
   "execution_count": 3,
   "metadata": {},
   "outputs": [],
   "source": [
    "# --- READ IN DATA \n",
    "\n",
    "data_path = \"cardiovascular_disease_data.csv\" \n",
    "data = pd.read_csv(data_path, dtype = {'age': 'int', 'height': 'int', 'weight':'int', 'ap_lo':'int', 'ap_hi':'int', 'sex': 'boolean', 'smoke': 'boolean',\n",
    "       'active':'boolean', 'cardio':'boolean', 'cholesterol':'category'}) \n"
   ]
  },
  {
   "cell_type": "code",
   "execution_count": 6,
   "metadata": {},
   "outputs": [
    {
     "name": "stdout",
     "output_type": "stream",
     "text": [
      "     age    sex  height  weight  ap_hi  ap_lo  smoke  active  cardio   \n",
      "0  19797  False     161      55    102     68  False    True   False  \\\n",
      "1  22571   True     178      68    120     70  False   False   False   \n",
      "2  16621   True     169      69    120     80  False    True   False   \n",
      "3  16688  False     156      77    120     80  False    True   False   \n",
      "4  19498   True     170      98    130     80   True    True    True   \n",
      "\n",
      "  cholesterol  \n",
      "0    elevated  \n",
      "1      normal  \n",
      "2      normal  \n",
      "3      normal  \n",
      "4    elevated  \n",
      "['age', 'height', 'weight', 'ap_hi', 'ap_lo']\n",
      "['sex', 'smoke', 'active', 'cardio']\n",
      "['cholesterol']\n"
     ]
    }
   ],
   "source": [
    "# Showing  first 5 rows of the data and fetures separation\n",
    "print(data.head())\n",
    "\n",
    "\n",
    "numeric_features = list(data.select_dtypes(include=np.number).columns)\n",
    "binary_features = list(data.select_dtypes(include=\"bool\").columns)\n",
    "categorical_features =  list(data.select_dtypes(include=\"category\").columns)\n",
    "\n",
    "print(numeric_features)\n",
    "print(binary_features)\n",
    "print(categorical_features)"
   ]
  },
  {
   "attachments": {},
   "cell_type": "markdown",
   "metadata": {},
   "source": [
    "----------\n",
    "### ***2a*** -  Print out the data types of your dataset below.\n"
   ]
  },
  {
   "cell_type": "code",
   "execution_count": 7,
   "metadata": {},
   "outputs": [
    {
     "name": "stdout",
     "output_type": "stream",
     "text": [
      "age               int32\n",
      "sex             boolean\n",
      "height            int32\n",
      "weight            int32\n",
      "ap_hi             int32\n",
      "ap_lo             int32\n",
      "smoke           boolean\n",
      "active          boolean\n",
      "cardio          boolean\n",
      "cholesterol    category\n",
      "dtype: object\n"
     ]
    }
   ],
   "source": [
    "# Feature types of the dataset\n",
    "print(data.dtypes)"
   ]
  },
  {
   "attachments": {},
   "cell_type": "markdown",
   "metadata": {},
   "source": [
    "--------\n",
    "***2 b)*** - Describing the data for generic information.   \n"
   ]
  },
  {
   "cell_type": "code",
   "execution_count": 8,
   "metadata": {},
   "outputs": [
    {
     "data": {
      "text/html": [
       "<div>\n",
       "<style scoped>\n",
       "    .dataframe tbody tr th:only-of-type {\n",
       "        vertical-align: middle;\n",
       "    }\n",
       "\n",
       "    .dataframe tbody tr th {\n",
       "        vertical-align: top;\n",
       "    }\n",
       "\n",
       "    .dataframe thead th {\n",
       "        text-align: right;\n",
       "    }\n",
       "</style>\n",
       "<table border=\"1\" class=\"dataframe\">\n",
       "  <thead>\n",
       "    <tr style=\"text-align: right;\">\n",
       "      <th></th>\n",
       "      <th>age</th>\n",
       "      <th>height</th>\n",
       "      <th>weight</th>\n",
       "      <th>ap_hi</th>\n",
       "      <th>ap_lo</th>\n",
       "    </tr>\n",
       "  </thead>\n",
       "  <tbody>\n",
       "    <tr>\n",
       "      <th>count</th>\n",
       "      <td>210.000000</td>\n",
       "      <td>210.000000</td>\n",
       "      <td>210.000000</td>\n",
       "      <td>210.000000</td>\n",
       "      <td>210.000000</td>\n",
       "    </tr>\n",
       "    <tr>\n",
       "      <th>mean</th>\n",
       "      <td>19455.504762</td>\n",
       "      <td>164.180952</td>\n",
       "      <td>73.895238</td>\n",
       "      <td>127.857143</td>\n",
       "      <td>81.814286</td>\n",
       "    </tr>\n",
       "    <tr>\n",
       "      <th>std</th>\n",
       "      <td>2429.010199</td>\n",
       "      <td>7.534648</td>\n",
       "      <td>14.612326</td>\n",
       "      <td>17.508947</td>\n",
       "      <td>9.947652</td>\n",
       "    </tr>\n",
       "    <tr>\n",
       "      <th>min</th>\n",
       "      <td>14367.000000</td>\n",
       "      <td>142.000000</td>\n",
       "      <td>45.000000</td>\n",
       "      <td>90.000000</td>\n",
       "      <td>50.000000</td>\n",
       "    </tr>\n",
       "    <tr>\n",
       "      <th>25%</th>\n",
       "      <td>17635.750000</td>\n",
       "      <td>158.000000</td>\n",
       "      <td>64.000000</td>\n",
       "      <td>120.000000</td>\n",
       "      <td>80.000000</td>\n",
       "    </tr>\n",
       "    <tr>\n",
       "      <th>50%</th>\n",
       "      <td>19778.000000</td>\n",
       "      <td>164.000000</td>\n",
       "      <td>70.000000</td>\n",
       "      <td>120.000000</td>\n",
       "      <td>80.000000</td>\n",
       "    </tr>\n",
       "    <tr>\n",
       "      <th>75%</th>\n",
       "      <td>21230.500000</td>\n",
       "      <td>170.000000</td>\n",
       "      <td>81.000000</td>\n",
       "      <td>140.000000</td>\n",
       "      <td>90.000000</td>\n",
       "    </tr>\n",
       "    <tr>\n",
       "      <th>max</th>\n",
       "      <td>23565.000000</td>\n",
       "      <td>195.000000</td>\n",
       "      <td>125.000000</td>\n",
       "      <td>190.000000</td>\n",
       "      <td>120.000000</td>\n",
       "    </tr>\n",
       "  </tbody>\n",
       "</table>\n",
       "</div>"
      ],
      "text/plain": [
       "                age      height      weight       ap_hi       ap_lo\n",
       "count    210.000000  210.000000  210.000000  210.000000  210.000000\n",
       "mean   19455.504762  164.180952   73.895238  127.857143   81.814286\n",
       "std     2429.010199    7.534648   14.612326   17.508947    9.947652\n",
       "min    14367.000000  142.000000   45.000000   90.000000   50.000000\n",
       "25%    17635.750000  158.000000   64.000000  120.000000   80.000000\n",
       "50%    19778.000000  164.000000   70.000000  120.000000   80.000000\n",
       "75%    21230.500000  170.000000   81.000000  140.000000   90.000000\n",
       "max    23565.000000  195.000000  125.000000  190.000000  120.000000"
      ]
     },
     "execution_count": 8,
     "metadata": {},
     "output_type": "execute_result"
    }
   ],
   "source": [
    "# --- Your code for 2b) --- #\n",
    "\n",
    "data.describe()"
   ]
  },
  {
   "attachments": {},
   "cell_type": "markdown",
   "metadata": {},
   "source": [
    "----------\n",
    "***2c*** - Calculating descriptives for the binary (boolean) features and the categorical feature <br>\n",
    "\n"
   ]
  },
  {
   "cell_type": "code",
   "execution_count": 9,
   "metadata": {},
   "outputs": [
    {
     "data": {
      "text/html": [
       "<div>\n",
       "<style scoped>\n",
       "    .dataframe tbody tr th:only-of-type {\n",
       "        vertical-align: middle;\n",
       "    }\n",
       "\n",
       "    .dataframe tbody tr th {\n",
       "        vertical-align: top;\n",
       "    }\n",
       "\n",
       "    .dataframe thead th {\n",
       "        text-align: right;\n",
       "    }\n",
       "</style>\n",
       "<table border=\"1\" class=\"dataframe\">\n",
       "  <thead>\n",
       "    <tr style=\"text-align: right;\">\n",
       "      <th></th>\n",
       "      <th>sex</th>\n",
       "      <th>smoke</th>\n",
       "      <th>active</th>\n",
       "      <th>cardio</th>\n",
       "    </tr>\n",
       "  </thead>\n",
       "  <tbody>\n",
       "    <tr>\n",
       "      <th>count</th>\n",
       "      <td>210</td>\n",
       "      <td>210</td>\n",
       "      <td>210</td>\n",
       "      <td>210</td>\n",
       "    </tr>\n",
       "    <tr>\n",
       "      <th>unique</th>\n",
       "      <td>2</td>\n",
       "      <td>2</td>\n",
       "      <td>2</td>\n",
       "      <td>2</td>\n",
       "    </tr>\n",
       "    <tr>\n",
       "      <th>top</th>\n",
       "      <td>False</td>\n",
       "      <td>False</td>\n",
       "      <td>True</td>\n",
       "      <td>False</td>\n",
       "    </tr>\n",
       "    <tr>\n",
       "      <th>freq</th>\n",
       "      <td>129</td>\n",
       "      <td>186</td>\n",
       "      <td>162</td>\n",
       "      <td>105</td>\n",
       "    </tr>\n",
       "  </tbody>\n",
       "</table>\n",
       "</div>"
      ],
      "text/plain": [
       "          sex  smoke active cardio\n",
       "count     210    210    210    210\n",
       "unique      2      2      2      2\n",
       "top     False  False   True  False\n",
       "freq      129    186    162    105"
      ]
     },
     "execution_count": 9,
     "metadata": {},
     "output_type": "execute_result"
    }
   ],
   "source": [
    "# 2d) Your code here #\n",
    "\n",
    "data.describe(include=[\"bool\"])\n"
   ]
  },
  {
   "cell_type": "code",
   "execution_count": 10,
   "metadata": {},
   "outputs": [
    {
     "data": {
      "text/html": [
       "<div>\n",
       "<style scoped>\n",
       "    .dataframe tbody tr th:only-of-type {\n",
       "        vertical-align: middle;\n",
       "    }\n",
       "\n",
       "    .dataframe tbody tr th {\n",
       "        vertical-align: top;\n",
       "    }\n",
       "\n",
       "    .dataframe thead th {\n",
       "        text-align: right;\n",
       "    }\n",
       "</style>\n",
       "<table border=\"1\" class=\"dataframe\">\n",
       "  <thead>\n",
       "    <tr style=\"text-align: right;\">\n",
       "      <th></th>\n",
       "      <th>age</th>\n",
       "      <th>sex</th>\n",
       "      <th>height</th>\n",
       "      <th>weight</th>\n",
       "      <th>ap_hi</th>\n",
       "      <th>ap_lo</th>\n",
       "      <th>smoke</th>\n",
       "      <th>active</th>\n",
       "      <th>cardio</th>\n",
       "    </tr>\n",
       "  </thead>\n",
       "  <tbody>\n",
       "    <tr>\n",
       "      <th>count</th>\n",
       "      <td>210.000000</td>\n",
       "      <td>210.000000</td>\n",
       "      <td>210.000000</td>\n",
       "      <td>210.000000</td>\n",
       "      <td>210.000000</td>\n",
       "      <td>210.000000</td>\n",
       "      <td>210.000000</td>\n",
       "      <td>210.000000</td>\n",
       "      <td>210.000000</td>\n",
       "    </tr>\n",
       "    <tr>\n",
       "      <th>mean</th>\n",
       "      <td>19455.504762</td>\n",
       "      <td>0.385714</td>\n",
       "      <td>164.180952</td>\n",
       "      <td>73.895238</td>\n",
       "      <td>127.857143</td>\n",
       "      <td>81.814286</td>\n",
       "      <td>0.114286</td>\n",
       "      <td>0.771429</td>\n",
       "      <td>0.500000</td>\n",
       "    </tr>\n",
       "    <tr>\n",
       "      <th>std</th>\n",
       "      <td>2429.010199</td>\n",
       "      <td>0.487927</td>\n",
       "      <td>7.534648</td>\n",
       "      <td>14.612326</td>\n",
       "      <td>17.508947</td>\n",
       "      <td>9.947652</td>\n",
       "      <td>0.318918</td>\n",
       "      <td>0.420916</td>\n",
       "      <td>0.501195</td>\n",
       "    </tr>\n",
       "    <tr>\n",
       "      <th>min</th>\n",
       "      <td>14367.000000</td>\n",
       "      <td>0.000000</td>\n",
       "      <td>142.000000</td>\n",
       "      <td>45.000000</td>\n",
       "      <td>90.000000</td>\n",
       "      <td>50.000000</td>\n",
       "      <td>0.000000</td>\n",
       "      <td>0.000000</td>\n",
       "      <td>0.000000</td>\n",
       "    </tr>\n",
       "    <tr>\n",
       "      <th>25%</th>\n",
       "      <td>17635.750000</td>\n",
       "      <td>0.000000</td>\n",
       "      <td>158.000000</td>\n",
       "      <td>64.000000</td>\n",
       "      <td>120.000000</td>\n",
       "      <td>80.000000</td>\n",
       "      <td>0.000000</td>\n",
       "      <td>1.000000</td>\n",
       "      <td>0.000000</td>\n",
       "    </tr>\n",
       "    <tr>\n",
       "      <th>50%</th>\n",
       "      <td>19778.000000</td>\n",
       "      <td>0.000000</td>\n",
       "      <td>164.000000</td>\n",
       "      <td>70.000000</td>\n",
       "      <td>120.000000</td>\n",
       "      <td>80.000000</td>\n",
       "      <td>0.000000</td>\n",
       "      <td>1.000000</td>\n",
       "      <td>0.500000</td>\n",
       "    </tr>\n",
       "    <tr>\n",
       "      <th>75%</th>\n",
       "      <td>21230.500000</td>\n",
       "      <td>1.000000</td>\n",
       "      <td>170.000000</td>\n",
       "      <td>81.000000</td>\n",
       "      <td>140.000000</td>\n",
       "      <td>90.000000</td>\n",
       "      <td>0.000000</td>\n",
       "      <td>1.000000</td>\n",
       "      <td>1.000000</td>\n",
       "    </tr>\n",
       "    <tr>\n",
       "      <th>max</th>\n",
       "      <td>23565.000000</td>\n",
       "      <td>1.000000</td>\n",
       "      <td>195.000000</td>\n",
       "      <td>125.000000</td>\n",
       "      <td>190.000000</td>\n",
       "      <td>120.000000</td>\n",
       "      <td>1.000000</td>\n",
       "      <td>1.000000</td>\n",
       "      <td>1.000000</td>\n",
       "    </tr>\n",
       "  </tbody>\n",
       "</table>\n",
       "</div>"
      ],
      "text/plain": [
       "                age         sex      height      weight       ap_hi   \n",
       "count    210.000000  210.000000  210.000000  210.000000  210.000000  \\\n",
       "mean   19455.504762    0.385714  164.180952   73.895238  127.857143   \n",
       "std     2429.010199    0.487927    7.534648   14.612326   17.508947   \n",
       "min    14367.000000    0.000000  142.000000   45.000000   90.000000   \n",
       "25%    17635.750000    0.000000  158.000000   64.000000  120.000000   \n",
       "50%    19778.000000    0.000000  164.000000   70.000000  120.000000   \n",
       "75%    21230.500000    1.000000  170.000000   81.000000  140.000000   \n",
       "max    23565.000000    1.000000  195.000000  125.000000  190.000000   \n",
       "\n",
       "            ap_lo       smoke      active      cardio  \n",
       "count  210.000000  210.000000  210.000000  210.000000  \n",
       "mean    81.814286    0.114286    0.771429    0.500000  \n",
       "std      9.947652    0.318918    0.420916    0.501195  \n",
       "min     50.000000    0.000000    0.000000    0.000000  \n",
       "25%     80.000000    0.000000    1.000000    0.000000  \n",
       "50%     80.000000    0.000000    1.000000    0.500000  \n",
       "75%     90.000000    0.000000    1.000000    1.000000  \n",
       "max    120.000000    1.000000    1.000000    1.000000  "
      ]
     },
     "execution_count": 10,
     "metadata": {},
     "output_type": "execute_result"
    }
   ],
   "source": [
    "# Will read in the dataset with no arguments\n",
    "wrongly_read_data = pd.read_csv(data_path)\n",
    "\n",
    "# to calculate descriptives for the data that was wrongly read in. \n",
    "wrongly_read_data.describe()"
   ]
  },
  {
   "attachments": {},
   "cell_type": "markdown",
   "metadata": {},
   "source": [
    "\n",
    "\n",
    "<font color = blue> The Boolean variables gave us wrong information since data for the said variable should be either one or other way around. For example in binary either \"1\" or \"0\". It was important to define tha data types in order to distinguish the variables and to avoid the missunderstanding of the data.   </font>"
   ]
  },
  {
   "attachments": {},
   "cell_type": "markdown",
   "metadata": {},
   "source": [
    "-----------------------\n",
    "## 3. Plotting numeric features\n",
    "Descriptives don't really give a full or intuitive picture of the distribution of features. Next, we will make use of different plots to check the data quality.  "
   ]
  },
  {
   "attachments": {},
   "cell_type": "markdown",
   "metadata": {},
   "source": [
    "----------\n",
    "***3 a)*** \n",
    "\n",
    "Let me plot the numeric features as histograms.\n"
   ]
  },
  {
   "cell_type": "code",
   "execution_count": 11,
   "metadata": {},
   "outputs": [
    {
     "data": {
      "image/png": "[encoded data removed]",
      "text/plain": [
       "<Figure size 1000x500 with 6 Axes>"
      ]
     },
     "metadata": {},
     "output_type": "display_data"
    }
   ],
   "source": [
    "# --- Your code for 3a) here --- #\n",
    "fig, axes = plt.subplots(3,2, figsize = (10,5)) # now axes have indexes like axes[i, j]\n",
    "numeric_plot_titles = ['Age', 'Height', 'Weight', 'ap_hi', 'ap_lo' ]#some titles for the different axes\n",
    "\n",
    "\n",
    "axes[0, 0].hist(data.age) #make a barplot\n",
    "axes[0, 0].set_title(numeric_plot_titles[0]) #set a title for each axes\n",
    "axes[0, 0].set_ylim((0,10)) # set the yaxis limits, set_xlim works the same way.  \n",
    "\n",
    "axes[0, 1].hist(data.height) #make a barplot\n",
    "axes[0, 1].set_title(numeric_plot_titles[1]) #set a title for each axes\n",
    "axes[0, 1].set_ylim((0,10)) # set the yaxis limits, set_xlim works the same way.  \n",
    "\n",
    "axes[1, 0].hist(data.weight) #make a barplot\n",
    "axes[1, 0].set_title(numeric_plot_titles[2]) #set a title for each axes\n",
    "axes[1, 0].set_ylim((0,10)) # set the yaxis limits, set_xlim works the same way.  \n",
    "\n",
    "axes[1, 1].hist(data.ap_hi) #make a barplot\n",
    "axes[1, 1].set_title(numeric_plot_titles[3]) #set a title for each axes\n",
    "axes[1, 1].set_ylim((0,10)) # set the yaxis limits, set_xlim works the same way.  \n",
    "\n",
    "axes[2, 0].hist(data.ap_lo) #make a barplot\n",
    "axes[2, 0].set_title(numeric_plot_titles[4]) #set a title for each axes\n",
    "axes[2, 0].set_ylim((0,10)) # set the yaxis limits, set_xlim works the same way.  \n",
    "\n",
    "fig.suptitle(\"fig.suptitle gives the figure a title and axes.set_title the axes\")\n",
    "plt.tight_layout()\n"
   ]
  },
  {
   "attachments": {},
   "cell_type": "markdown",
   "metadata": {},
   "source": [
    "_______\n",
    "## 4. Plotting binary and categorical features"
   ]
  },
  {
   "attachments": {},
   "cell_type": "markdown",
   "metadata": {},
   "source": [
    "***4 a*** - Ploting  **barplots** for each of the non-numeric features. **using fractions, not the real frequencies of the levels of these features**.\n",
    "\n",
    "--------------\n",
    "\n"
   ]
  },
  {
   "cell_type": "code",
   "execution_count": 18,
   "metadata": {},
   "outputs": [
    {
     "ename": "ValueError",
     "evalue": "shape mismatch: objects cannot be broadcast to a single shape.  Mismatch is between arg 0 with shape (4,) and arg 1 with shape (3,).",
     "output_type": "error",
     "traceback": [
      "\u001b[1;31m---------------------------------------------------------------------------\u001b[0m",
      "\u001b[1;31mValueError\u001b[0m                                Traceback (most recent call last)",
      "Cell \u001b[1;32mIn[18], line 12\u001b[0m\n\u001b[0;32m     10\u001b[0m values \u001b[39m=\u001b[39m data[variable]\u001b[39m.\u001b[39mvalue_counts(normalize\u001b[39m=\u001b[39m\u001b[39mTrue\u001b[39;00m)\n\u001b[0;32m     11\u001b[0m x \u001b[39m=\u001b[39m data[variable]\u001b[39m.\u001b[39munique()\u001b[39m.\u001b[39mastype(\u001b[39mstr\u001b[39m)\n\u001b[1;32m---> 12\u001b[0m axes[i\u001b[39m/\u001b[39;49m\u001b[39m/\u001b[39;49m\u001b[39m3\u001b[39;49m, i\u001b[39m%\u001b[39;49m\u001b[39m3\u001b[39;49m]\u001b[39m.\u001b[39;49mbar(x\u001b[39m=\u001b[39;49mx, height\u001b[39m=\u001b[39;49mvalues)\n\u001b[0;32m     13\u001b[0m axes[i\u001b[39m/\u001b[39m\u001b[39m/\u001b[39m\u001b[39m3\u001b[39m, i\u001b[39m%\u001b[39m\u001b[39m3\u001b[39m]\u001b[39m.\u001b[39mset_title(variable)\n\u001b[0;32m     14\u001b[0m axes[i\u001b[39m/\u001b[39m\u001b[39m/\u001b[39m\u001b[39m3\u001b[39m, i\u001b[39m%\u001b[39m\u001b[39m3\u001b[39m]\u001b[39m.\u001b[39mset_ylim((\u001b[39m0\u001b[39m,\u001b[39m1\u001b[39m))\n",
      "File \u001b[1;32m~\\AppData\\Local\\Packages\\PythonSoftwareFoundation.Python.3.11_qbz5n2kfra8p0\\LocalCache\\local-packages\\Python311\\site-packages\\matplotlib\\__init__.py:1459\u001b[0m, in \u001b[0;36m_preprocess_data.<locals>.inner\u001b[1;34m(ax, data, *args, **kwargs)\u001b[0m\n\u001b[0;32m   1456\u001b[0m \u001b[39m@functools\u001b[39m\u001b[39m.\u001b[39mwraps(func)\n\u001b[0;32m   1457\u001b[0m \u001b[39mdef\u001b[39;00m \u001b[39minner\u001b[39m(ax, \u001b[39m*\u001b[39margs, data\u001b[39m=\u001b[39m\u001b[39mNone\u001b[39;00m, \u001b[39m*\u001b[39m\u001b[39m*\u001b[39mkwargs):\n\u001b[0;32m   1458\u001b[0m     \u001b[39mif\u001b[39;00m data \u001b[39mis\u001b[39;00m \u001b[39mNone\u001b[39;00m:\n\u001b[1;32m-> 1459\u001b[0m         \u001b[39mreturn\u001b[39;00m func(ax, \u001b[39m*\u001b[39;49m\u001b[39mmap\u001b[39;49m(sanitize_sequence, args), \u001b[39m*\u001b[39;49m\u001b[39m*\u001b[39;49mkwargs)\n\u001b[0;32m   1461\u001b[0m     bound \u001b[39m=\u001b[39m new_sig\u001b[39m.\u001b[39mbind(ax, \u001b[39m*\u001b[39margs, \u001b[39m*\u001b[39m\u001b[39m*\u001b[39mkwargs)\n\u001b[0;32m   1462\u001b[0m     auto_label \u001b[39m=\u001b[39m (bound\u001b[39m.\u001b[39marguments\u001b[39m.\u001b[39mget(label_namer)\n\u001b[0;32m   1463\u001b[0m                   \u001b[39mor\u001b[39;00m bound\u001b[39m.\u001b[39mkwargs\u001b[39m.\u001b[39mget(label_namer))\n",
      "File \u001b[1;32m~\\AppData\\Local\\Packages\\PythonSoftwareFoundation.Python.3.11_qbz5n2kfra8p0\\LocalCache\\local-packages\\Python311\\site-packages\\matplotlib\\axes\\_axes.py:2417\u001b[0m, in \u001b[0;36mAxes.bar\u001b[1;34m(self, x, height, width, bottom, align, **kwargs)\u001b[0m\n\u001b[0;32m   2414\u001b[0m     \u001b[39mif\u001b[39;00m yerr \u001b[39mis\u001b[39;00m \u001b[39mnot\u001b[39;00m \u001b[39mNone\u001b[39;00m:\n\u001b[0;32m   2415\u001b[0m         yerr \u001b[39m=\u001b[39m \u001b[39mself\u001b[39m\u001b[39m.\u001b[39m_convert_dx(yerr, y0, y, \u001b[39mself\u001b[39m\u001b[39m.\u001b[39mconvert_yunits)\n\u001b[1;32m-> 2417\u001b[0m x, height, width, y, linewidth, hatch \u001b[39m=\u001b[39m np\u001b[39m.\u001b[39;49mbroadcast_arrays(\n\u001b[0;32m   2418\u001b[0m     \u001b[39m# Make args iterable too.\u001b[39;49;00m\n\u001b[0;32m   2419\u001b[0m     np\u001b[39m.\u001b[39;49matleast_1d(x), height, width, y, linewidth, hatch)\n\u001b[0;32m   2421\u001b[0m \u001b[39m# Now that units have been converted, set the tick locations.\u001b[39;00m\n\u001b[0;32m   2422\u001b[0m \u001b[39mif\u001b[39;00m orientation \u001b[39m==\u001b[39m \u001b[39m'\u001b[39m\u001b[39mvertical\u001b[39m\u001b[39m'\u001b[39m:\n",
      "File \u001b[1;32m<__array_function__ internals>:200\u001b[0m, in \u001b[0;36mbroadcast_arrays\u001b[1;34m(*args, **kwargs)\u001b[0m\n",
      "File \u001b[1;32m~\\AppData\\Local\\Packages\\PythonSoftwareFoundation.Python.3.11_qbz5n2kfra8p0\\LocalCache\\local-packages\\Python311\\site-packages\\numpy\\lib\\stride_tricks.py:540\u001b[0m, in \u001b[0;36mbroadcast_arrays\u001b[1;34m(subok, *args)\u001b[0m\n\u001b[0;32m    533\u001b[0m \u001b[39m# nditer is not used here to avoid the limit of 32 arrays.\u001b[39;00m\n\u001b[0;32m    534\u001b[0m \u001b[39m# Otherwise, something like the following one-liner would suffice:\u001b[39;00m\n\u001b[0;32m    535\u001b[0m \u001b[39m# return np.nditer(args, flags=['multi_index', 'zerosize_ok'],\u001b[39;00m\n\u001b[0;32m    536\u001b[0m \u001b[39m#                  order='C').itviews\u001b[39;00m\n\u001b[0;32m    538\u001b[0m args \u001b[39m=\u001b[39m [np\u001b[39m.\u001b[39marray(_m, copy\u001b[39m=\u001b[39m\u001b[39mFalse\u001b[39;00m, subok\u001b[39m=\u001b[39msubok) \u001b[39mfor\u001b[39;00m _m \u001b[39min\u001b[39;00m args]\n\u001b[1;32m--> 540\u001b[0m shape \u001b[39m=\u001b[39m _broadcast_shape(\u001b[39m*\u001b[39;49margs)\n\u001b[0;32m    542\u001b[0m \u001b[39mif\u001b[39;00m \u001b[39mall\u001b[39m(array\u001b[39m.\u001b[39mshape \u001b[39m==\u001b[39m shape \u001b[39mfor\u001b[39;00m array \u001b[39min\u001b[39;00m args):\n\u001b[0;32m    543\u001b[0m     \u001b[39m# Common case where nothing needs to be broadcasted.\u001b[39;00m\n\u001b[0;32m    544\u001b[0m     \u001b[39mreturn\u001b[39;00m args\n",
      "File \u001b[1;32m~\\AppData\\Local\\Packages\\PythonSoftwareFoundation.Python.3.11_qbz5n2kfra8p0\\LocalCache\\local-packages\\Python311\\site-packages\\numpy\\lib\\stride_tricks.py:422\u001b[0m, in \u001b[0;36m_broadcast_shape\u001b[1;34m(*args)\u001b[0m\n\u001b[0;32m    417\u001b[0m \u001b[39m\u001b[39m\u001b[39m\"\"\"Returns the shape of the arrays that would result from broadcasting the\u001b[39;00m\n\u001b[0;32m    418\u001b[0m \u001b[39msupplied arrays against each other.\u001b[39;00m\n\u001b[0;32m    419\u001b[0m \u001b[39m\"\"\"\u001b[39;00m\n\u001b[0;32m    420\u001b[0m \u001b[39m# use the old-iterator because np.nditer does not handle size 0 arrays\u001b[39;00m\n\u001b[0;32m    421\u001b[0m \u001b[39m# consistently\u001b[39;00m\n\u001b[1;32m--> 422\u001b[0m b \u001b[39m=\u001b[39m np\u001b[39m.\u001b[39;49mbroadcast(\u001b[39m*\u001b[39;49margs[:\u001b[39m32\u001b[39;49m])\n\u001b[0;32m    423\u001b[0m \u001b[39m# unfortunately, it cannot handle 32 or more arguments directly\u001b[39;00m\n\u001b[0;32m    424\u001b[0m \u001b[39mfor\u001b[39;00m pos \u001b[39min\u001b[39;00m \u001b[39mrange\u001b[39m(\u001b[39m32\u001b[39m, \u001b[39mlen\u001b[39m(args), \u001b[39m31\u001b[39m):\n\u001b[0;32m    425\u001b[0m     \u001b[39m# ironically, np.broadcast does not properly handle np.broadcast\u001b[39;00m\n\u001b[0;32m    426\u001b[0m     \u001b[39m# objects (it treats them as scalars)\u001b[39;00m\n\u001b[0;32m    427\u001b[0m     \u001b[39m# use broadcasting to avoid allocating the full array\u001b[39;00m\n",
      "\u001b[1;31mValueError\u001b[0m: shape mismatch: objects cannot be broadcast to a single shape.  Mismatch is between arg 0 with shape (4,) and arg 1 with shape (3,)."
     ]
    },
    {
     "data": {
      "image/png": "[encoded data removed]",
      "text/plain": [
       "<Figure size 1200x700 with 5 Axes>"
      ]
     },
     "metadata": {},
     "output_type": "display_data"
    }
   ],
   "source": [
    "# --- Your code for 4a) here --- #\n",
    "\n",
    "non_numeric_features = binary_features + categorical_features\n",
    "\n",
    "fig, axes = plt.subplots(nrows = 2, ncols = 3, figsize = (12,7))\n",
    "fig.delaxes(axes[1,2])\n",
    "fig.suptitle('Barplots for Non-Numeric features')\n",
    "\n",
    "for i, variable in enumerate(non_numeric_features):\n",
    "    values = data[variable].value_counts(normalize=True)\n",
    "    x = data[variable].unique().astype(str)\n",
    "    axes[i//3, i%3].bar(x=x, height=values)\n",
    "    axes[i//3, i%3].set_title(variable)\n",
    "    axes[i//3, i%3].set_ylim((0,1))\n",
    "\n",
    "plt.tight_layout()\n"
   ]
  },
  {
   "attachments": {},
   "cell_type": "markdown",
   "metadata": {},
   "source": [
    "-------------\n",
    "\n",
    "## 5. Preprocessing numeric features"
   ]
  },
  {
   "attachments": {},
   "cell_type": "markdown",
   "metadata": {},
   "source": [
    "**5 a** - Min-max numeric attributes to [0,1] and **The resultsn stored in a new dataframe called data_min_maxed**. I might have to wrap the data to a dataframe again using pd.DataFrame()"
   ]
  },
  {
   "cell_type": "code",
   "execution_count": 19,
   "metadata": {},
   "outputs": [
    {
     "data": {
      "text/html": [
       "<div>\n",
       "<style scoped>\n",
       "    .dataframe tbody tr th:only-of-type {\n",
       "        vertical-align: middle;\n",
       "    }\n",
       "\n",
       "    .dataframe tbody tr th {\n",
       "        vertical-align: top;\n",
       "    }\n",
       "\n",
       "    .dataframe thead th {\n",
       "        text-align: right;\n",
       "    }\n",
       "</style>\n",
       "<table border=\"1\" class=\"dataframe\">\n",
       "  <thead>\n",
       "    <tr style=\"text-align: right;\">\n",
       "      <th></th>\n",
       "      <th>age</th>\n",
       "      <th>height</th>\n",
       "      <th>weight</th>\n",
       "      <th>ap_hi</th>\n",
       "      <th>ap_lo</th>\n",
       "    </tr>\n",
       "  </thead>\n",
       "  <tbody>\n",
       "    <tr>\n",
       "      <th>114</th>\n",
       "      <td>0.177430</td>\n",
       "      <td>0.301887</td>\n",
       "      <td>0.1000</td>\n",
       "      <td>0.10</td>\n",
       "      <td>0.142857</td>\n",
       "    </tr>\n",
       "    <tr>\n",
       "      <th>30</th>\n",
       "      <td>0.657752</td>\n",
       "      <td>0.509434</td>\n",
       "      <td>0.5000</td>\n",
       "      <td>0.60</td>\n",
       "      <td>0.714286</td>\n",
       "    </tr>\n",
       "    <tr>\n",
       "      <th>149</th>\n",
       "      <td>0.499891</td>\n",
       "      <td>0.584906</td>\n",
       "      <td>0.2875</td>\n",
       "      <td>0.30</td>\n",
       "      <td>0.428571</td>\n",
       "    </tr>\n",
       "    <tr>\n",
       "      <th>138</th>\n",
       "      <td>0.742227</td>\n",
       "      <td>0.433962</td>\n",
       "      <td>0.3750</td>\n",
       "      <td>0.30</td>\n",
       "      <td>0.428571</td>\n",
       "    </tr>\n",
       "    <tr>\n",
       "      <th>187</th>\n",
       "      <td>0.405523</td>\n",
       "      <td>0.490566</td>\n",
       "      <td>0.2500</td>\n",
       "      <td>0.30</td>\n",
       "      <td>0.428571</td>\n",
       "    </tr>\n",
       "    <tr>\n",
       "      <th>11</th>\n",
       "      <td>0.638617</td>\n",
       "      <td>0.415094</td>\n",
       "      <td>0.2000</td>\n",
       "      <td>0.30</td>\n",
       "      <td>0.428571</td>\n",
       "    </tr>\n",
       "    <tr>\n",
       "      <th>0</th>\n",
       "      <td>0.590346</td>\n",
       "      <td>0.358491</td>\n",
       "      <td>0.1250</td>\n",
       "      <td>0.12</td>\n",
       "      <td>0.257143</td>\n",
       "    </tr>\n",
       "    <tr>\n",
       "      <th>34</th>\n",
       "      <td>0.997065</td>\n",
       "      <td>0.415094</td>\n",
       "      <td>0.3000</td>\n",
       "      <td>0.30</td>\n",
       "      <td>0.428571</td>\n",
       "    </tr>\n",
       "    <tr>\n",
       "      <th>148</th>\n",
       "      <td>0.715590</td>\n",
       "      <td>0.509434</td>\n",
       "      <td>0.3750</td>\n",
       "      <td>0.30</td>\n",
       "      <td>0.428571</td>\n",
       "    </tr>\n",
       "    <tr>\n",
       "      <th>101</th>\n",
       "      <td>0.592411</td>\n",
       "      <td>0.452830</td>\n",
       "      <td>0.4375</td>\n",
       "      <td>0.40</td>\n",
       "      <td>0.428571</td>\n",
       "    </tr>\n",
       "  </tbody>\n",
       "</table>\n",
       "</div>"
      ],
      "text/plain": [
       "          age    height  weight  ap_hi     ap_lo\n",
       "114  0.177430  0.301887  0.1000   0.10  0.142857\n",
       "30   0.657752  0.509434  0.5000   0.60  0.714286\n",
       "149  0.499891  0.584906  0.2875   0.30  0.428571\n",
       "138  0.742227  0.433962  0.3750   0.30  0.428571\n",
       "187  0.405523  0.490566  0.2500   0.30  0.428571\n",
       "11   0.638617  0.415094  0.2000   0.30  0.428571\n",
       "0    0.590346  0.358491  0.1250   0.12  0.257143\n",
       "34   0.997065  0.415094  0.3000   0.30  0.428571\n",
       "148  0.715590  0.509434  0.3750   0.30  0.428571\n",
       "101  0.592411  0.452830  0.4375   0.40  0.428571"
      ]
     },
     "execution_count": 19,
     "metadata": {},
     "output_type": "execute_result"
    }
   ],
   "source": [
    "\n",
    "# use the variable name data_min_maxed\n",
    "\n",
    "data_min_maxed = pd.DataFrame(minmax_scale(data[numeric_features]),columns=numeric_features)\n",
    "data_min_maxed.sample(10)"
   ]
  },
  {
   "attachments": {},
   "cell_type": "markdown",
   "metadata": {},
   "source": [
    "**5 b** - Standardizing numeric attributes to 0 mean and unit variance and **the results ae stored in a new dataframe called data_standardized**"
   ]
  },
  {
   "cell_type": "code",
   "execution_count": 21,
   "metadata": {},
   "outputs": [
    {
     "data": {
      "text/html": [
       "<div>\n",
       "<style scoped>\n",
       "    .dataframe tbody tr th:only-of-type {\n",
       "        vertical-align: middle;\n",
       "    }\n",
       "\n",
       "    .dataframe tbody tr th {\n",
       "        vertical-align: top;\n",
       "    }\n",
       "\n",
       "    .dataframe thead th {\n",
       "        text-align: right;\n",
       "    }\n",
       "</style>\n",
       "<table border=\"1\" class=\"dataframe\">\n",
       "  <thead>\n",
       "    <tr style=\"text-align: right;\">\n",
       "      <th></th>\n",
       "      <th>age</th>\n",
       "      <th>height</th>\n",
       "      <th>weight</th>\n",
       "      <th>ap_hi</th>\n",
       "      <th>ap_lo</th>\n",
       "    </tr>\n",
       "  </thead>\n",
       "  <tbody>\n",
       "    <tr>\n",
       "      <th>39</th>\n",
       "      <td>-0.781813</td>\n",
       "      <td>0.508076</td>\n",
       "      <td>0.761774</td>\n",
       "      <td>0.122679</td>\n",
       "      <td>-0.182819</td>\n",
       "    </tr>\n",
       "    <tr>\n",
       "      <th>50</th>\n",
       "      <td>-0.503258</td>\n",
       "      <td>-0.290148</td>\n",
       "      <td>0.418780</td>\n",
       "      <td>0.122679</td>\n",
       "      <td>0.824845</td>\n",
       "    </tr>\n",
       "    <tr>\n",
       "      <th>40</th>\n",
       "      <td>-0.807811</td>\n",
       "      <td>0.375039</td>\n",
       "      <td>-0.267209</td>\n",
       "      <td>-0.449822</td>\n",
       "      <td>-0.182819</td>\n",
       "    </tr>\n",
       "    <tr>\n",
       "      <th>55</th>\n",
       "      <td>0.001442</td>\n",
       "      <td>2.104524</td>\n",
       "      <td>2.339549</td>\n",
       "      <td>0.695180</td>\n",
       "      <td>-0.182819</td>\n",
       "    </tr>\n",
       "    <tr>\n",
       "      <th>173</th>\n",
       "      <td>-0.440944</td>\n",
       "      <td>-1.354447</td>\n",
       "      <td>-0.884599</td>\n",
       "      <td>-1.022324</td>\n",
       "      <td>0.824845</td>\n",
       "    </tr>\n",
       "    <tr>\n",
       "      <th>64</th>\n",
       "      <td>-0.161977</td>\n",
       "      <td>1.173263</td>\n",
       "      <td>1.790758</td>\n",
       "      <td>0.695180</td>\n",
       "      <td>0.824845</td>\n",
       "    </tr>\n",
       "    <tr>\n",
       "      <th>174</th>\n",
       "      <td>-0.867236</td>\n",
       "      <td>0.508076</td>\n",
       "      <td>-0.335808</td>\n",
       "      <td>-1.022324</td>\n",
       "      <td>-0.182819</td>\n",
       "    </tr>\n",
       "    <tr>\n",
       "      <th>21</th>\n",
       "      <td>-0.799971</td>\n",
       "      <td>0.774151</td>\n",
       "      <td>0.281582</td>\n",
       "      <td>-0.449822</td>\n",
       "      <td>-0.182819</td>\n",
       "    </tr>\n",
       "    <tr>\n",
       "      <th>63</th>\n",
       "      <td>0.528014</td>\n",
       "      <td>-1.088372</td>\n",
       "      <td>-0.747401</td>\n",
       "      <td>-0.449822</td>\n",
       "      <td>-2.198148</td>\n",
       "    </tr>\n",
       "    <tr>\n",
       "      <th>16</th>\n",
       "      <td>0.896120</td>\n",
       "      <td>0.108964</td>\n",
       "      <td>-0.816000</td>\n",
       "      <td>-0.449822</td>\n",
       "      <td>-0.182819</td>\n",
       "    </tr>\n",
       "  </tbody>\n",
       "</table>\n",
       "</div>"
      ],
      "text/plain": [
       "          age    height    weight     ap_hi     ap_lo\n",
       "39  -0.781813  0.508076  0.761774  0.122679 -0.182819\n",
       "50  -0.503258 -0.290148  0.418780  0.122679  0.824845\n",
       "40  -0.807811  0.375039 -0.267209 -0.449822 -0.182819\n",
       "55   0.001442  2.104524  2.339549  0.695180 -0.182819\n",
       "173 -0.440944 -1.354447 -0.884599 -1.022324  0.824845\n",
       "64  -0.161977  1.173263  1.790758  0.695180  0.824845\n",
       "174 -0.867236  0.508076 -0.335808 -1.022324 -0.182819\n",
       "21  -0.799971  0.774151  0.281582 -0.449822 -0.182819\n",
       "63   0.528014 -1.088372 -0.747401 -0.449822 -2.198148\n",
       "16   0.896120  0.108964 -0.816000 -0.449822 -0.182819"
      ]
     },
     "execution_count": 21,
     "metadata": {},
     "output_type": "execute_result"
    }
   ],
   "source": [
    "\n",
    "data_standardized = pd.DataFrame(scale(data[numeric_features]),columns=numeric_features)\n",
    "data_standardized.sample(10)"
   ]
  },
  {
   "attachments": {},
   "cell_type": "markdown",
   "metadata": {},
   "source": [
    "**5 c**- Showing two boxplots of the 'age' feature, one plot with the data_min_maxed and one with the data_standardized. Preferably put the plots side-by-side and give each titles."
   ]
  },
  {
   "cell_type": "code",
   "execution_count": 18,
   "metadata": {},
   "outputs": [
    {
     "data": {
      "text/plain": [
       "Text(0.5, 1.0, 'Standardized Age')"
      ]
     },
     "execution_count": 18,
     "metadata": {},
     "output_type": "execute_result"
    },
    {
     "data": {
      "image/png": "[encoded data removed]",
      "text/plain": [
       "<Figure size 720x576 with 2 Axes>"
      ]
     },
     "metadata": {
      "needs_background": "light"
     },
     "output_type": "display_data"
    }
   ],
   "source": [
    "\n",
    "\n",
    "fig, axes = plt.subplots(nrows=1,ncols=2,figsize=(10,8))\n",
    "sns.boxplot(data= data_min_maxed[\"age\"], ax = axes[0])\n",
    "sns.boxplot(data= data_standardized[\"age\"],ax = axes[1])\n",
    "\n",
    "axes[0].set_title(\"Min Max Scaled Age\")\n",
    "axes[1].set_title(\"Standardized Age\")"
   ]
  },
  {
   "attachments": {},
   "cell_type": "markdown",
   "metadata": {},
   "source": [
    "---------\n",
    "\n",
    "Lets see the differences of these preprocessing methods through an example. I will add an \"outlier\" point (some point with a large value) to replace the \n",
    "last value in both data, then again minmax and standardize and plot. The code to add the value is given and I will not change it. \n",
    "\n",
    "--------------------\n"
   ]
  },
  {
   "cell_type": "code",
   "execution_count": 22,
   "metadata": {},
   "outputs": [],
   "source": [
    "### Adding an outlier, \n",
    "data_w_outlier = data.copy()\n",
    "data_w_outlier.loc[data.shape[0] -1 , 'age'] = 150 \n",
    "age_w_outlier = data_w_outlier.age"
   ]
  },
  {
   "cell_type": "code",
   "execution_count": 23,
   "metadata": {},
   "outputs": [],
   "source": [
    " \n",
    "# create age_w_outlier_minmaxed, keep the names the same\n",
    "age_w_outlier_minmaxed = pd.DataFrame(minmax_scale(data_w_outlier[numeric_features]),columns=numeric_features)\n",
    "\n",
    "# create age_w_outlier_standardized\n",
    "age_w_outlier_standardized = pd.DataFrame(scale(data_w_outlier[numeric_features]),columns=numeric_features)"
   ]
  },
  {
   "cell_type": "code",
   "execution_count": 24,
   "metadata": {
    "scrolled": true
   },
   "outputs": [
    {
     "data": {
      "image/png": "[encoded data removed]",
      "text/plain": [
       "<Figure size 640x480 with 1 Axes>"
      ]
     },
     "metadata": {},
     "output_type": "display_data"
    },
    {
     "data": {
      "image/png": "[encoded data removed]",
      "text/plain": [
       "<Figure size 640x480 with 1 Axes>"
      ]
     },
     "metadata": {},
     "output_type": "display_data"
    }
   ],
   "source": [
    "# Wrap in a dataframe that will have two features - the age feature without the outlier, and the age feature with it, min-maxed.\n",
    "minmaxed_datas = pd.DataFrame({\"minmaxed_age_no_outlier\" : data_min_maxed.age, \n",
    "              \"minmaxed_age_with_outlier\": age_w_outlier_minmaxed.age })\n",
    "\n",
    "# Wrap in a dataframe that will have two features - the age feature without the outlier, and the age feature with it, standardized. \n",
    "standardized_datas = pd.DataFrame({\"standardized_data_no_outlier\" : data_standardized.age, \n",
    "              \"standardized_data_w_outlier\": age_w_outlier_standardized.age })\n",
    "\n",
    "axes_minmaxed = minmaxed_datas[['minmaxed_age_no_outlier', 'minmaxed_age_with_outlier']].plot(kind='box', title='Minmax with and without outlier')\n",
    "axes_std = standardized_datas[['standardized_data_no_outlier', 'standardized_data_w_outlier']].plot(kind='box', title='Standardized with and without outlier')"
   ]
  },
  {
   "attachments": {},
   "cell_type": "markdown",
   "metadata": {},
   "source": [
    "\n",
    "\n",
    "<font color = blue> \n",
    " I see the difference between both. Outliers are skewing the result looking at  min-maxed value while standarizing sustains the shape even without outliers. </font>"
   ]
  },
  {
   "attachments": {},
   "cell_type": "markdown",
   "metadata": {},
   "source": [
    "---------------\n",
    "## 6. Preprocessing categorical features\n",
    "\n"
   ]
  },
  {
   "attachments": {},
   "cell_type": "markdown",
   "metadata": {},
   "source": [
    "**6 a** - One-hot-encode the cholesterol-feature and add the one-hot features to the data. Given the new features meaningful names. Print the first rows of the resulting dataframe. \n",
    "\n",
    "_tip: pandas has a function for this, google!_"
   ]
  },
  {
   "cell_type": "code",
   "execution_count": 25,
   "metadata": {},
   "outputs": [
    {
     "data": {
      "text/html": [
       "<div>\n",
       "<style scoped>\n",
       "    .dataframe tbody tr th:only-of-type {\n",
       "        vertical-align: middle;\n",
       "    }\n",
       "\n",
       "    .dataframe tbody tr th {\n",
       "        vertical-align: top;\n",
       "    }\n",
       "\n",
       "    .dataframe thead th {\n",
       "        text-align: right;\n",
       "    }\n",
       "</style>\n",
       "<table border=\"1\" class=\"dataframe\">\n",
       "  <thead>\n",
       "    <tr style=\"text-align: right;\">\n",
       "      <th></th>\n",
       "      <th>age</th>\n",
       "      <th>sex</th>\n",
       "      <th>height</th>\n",
       "      <th>weight</th>\n",
       "      <th>ap_hi</th>\n",
       "      <th>ap_lo</th>\n",
       "      <th>smoke</th>\n",
       "      <th>active</th>\n",
       "      <th>cardio</th>\n",
       "      <th>cholesterol_at risk</th>\n",
       "      <th>cholesterol_elevated</th>\n",
       "      <th>cholesterol_normal</th>\n",
       "    </tr>\n",
       "  </thead>\n",
       "  <tbody>\n",
       "    <tr>\n",
       "      <th>0</th>\n",
       "      <td>19797</td>\n",
       "      <td>False</td>\n",
       "      <td>161</td>\n",
       "      <td>55</td>\n",
       "      <td>102</td>\n",
       "      <td>68</td>\n",
       "      <td>False</td>\n",
       "      <td>True</td>\n",
       "      <td>False</td>\n",
       "      <td>False</td>\n",
       "      <td>True</td>\n",
       "      <td>False</td>\n",
       "    </tr>\n",
       "  </tbody>\n",
       "</table>\n",
       "</div>"
      ],
      "text/plain": [
       "     age    sex  height  weight  ap_hi  ap_lo  smoke  active  cardio   \n",
       "0  19797  False     161      55    102     68  False    True   False  \\\n",
       "\n",
       "   cholesterol_at risk  cholesterol_elevated  cholesterol_normal  \n",
       "0                False                  True               False  "
      ]
     },
     "execution_count": 25,
     "metadata": {},
     "output_type": "execute_result"
    }
   ],
   "source": [
    "\n",
    "\n",
    "data_hot_encoded = pd.get_dummies(data)\n",
    "data_hot_encoded.head(1)"
   ]
  },
  {
   "attachments": {},
   "cell_type": "markdown",
   "metadata": {},
   "source": [
    "----------"
   ]
  }
 ],
 "metadata": {
  "colab": {
   "name": "DADK_exercise_2_2021.ipynb",
   "provenance": []
  },
  "kernelspec": {
   "display_name": "Python 3 (ipykernel)",
   "language": "python",
   "name": "python3"
  },
  "language_info": {
   "codemirror_mode": {
    "name": "ipython",
    "version": 3
   },
   "file_extension": ".py",
   "mimetype": "text/x-python",
   "name": "python",
   "nbconvert_exporter": "python",
   "pygments_lexer": "ipython3",
   "version": "3.11.3"
  },
  "toc": {
   "base_numbering": 1,
   "nav_menu": {
    "height": "180px",
    "width": "160px"
   },
   "number_sections": false,
   "sideBar": true,
   "skip_h1_title": true,
   "title_cell": "Table of Contents",
   "title_sidebar": "Contents",
   "toc_cell": false,
   "toc_position": {},
   "toc_section_display": true,
   "toc_window_display": true
  }
 },
 "nbformat": 4,
 "nbformat_minor": 1
}
